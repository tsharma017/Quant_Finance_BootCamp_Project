{
 "cells": [
  {
   "cell_type": "markdown",
   "id": "01018041-0551-4580-9825-bd2850f16d5a",
   "metadata": {},
   "source": [
    "### Mini Project 1: Construction and Analysis of High-Risk and Low-Risk Investment Portfolios Using Modern Portfolio Theory (MPT)"
   ]
  },
  {
   "cell_type": "markdown",
   "id": "30a49d94-5bcc-409e-a2b4-b9e216033788",
   "metadata": {},
   "source": [
    "# Objective:\n",
    "Build and Compare two portfolios\n",
    "\n",
    "1. High-Risk Portfolio: Emphasizes return but high volatility\n",
    "2. Low-Risk Portfolio: Relatively Portfolio stability and minimizes drawdown"
   ]
  },
  {
   "cell_type": "markdown",
   "id": "ab485199-1fac-4f6a-a421-62996073b32a",
   "metadata": {},
   "source": [
    "# Type of Risk Analyzed:\n",
    "1. Volatility (Standard Deviation): Measures price fluctuation\n",
    "2. Beta: Sensitivity to overall market movements\n",
    "3. Value at Risk (VaR): Potential loss over a period at a given confidence level\n",
    "4. Sharpe Ratio (Return/Risk): Efficiency of returns per unit of risk"
   ]
  },
  {
   "cell_type": "markdown",
   "id": "0265b9cb-f774-40b8-a995-4d87456d6cd1",
   "metadata": {},
   "source": [
    "# Methodology:\n",
    "Pull current data (past 1 year) using yfinance\n",
    "Select well-known stocks\n",
    "\n",
    "Compute:\n",
    "1. Daily returns\n",
    "2. Covariance matrix\n",
    "3. Portfolio returns and risk\n",
    "\n",
    "Use optimization to get:\n",
    "1. Max Sharpe (for low risk)\n",
    "2. Max return (for high risk)\n",
    "\n",
    "Plot the efficient frontier"
   ]
  },
  {
   "cell_type": "code",
   "execution_count": 3,
   "id": "5a351e27-0f12-4d9b-b0e9-f09d58df1c3f",
   "metadata": {},
   "outputs": [],
   "source": [
    "import yfinance as yf\n",
    "import  numpy as np\n",
    "import pandas as pd\n",
    "import matplotlib.pyplot as plt\n",
    "from scipy.optimize import minimize"
   ]
  },
  {
   "cell_type": "code",
   "execution_count": 33,
   "id": "1025b165-02f3-4a2c-af59-04d5fbb792f7",
   "metadata": {},
   "outputs": [
    {
     "name": "stderr",
     "output_type": "stream",
     "text": [
      "[*********************100%***********************]  8 of 8 completed"
     ]
    },
    {
     "name": "stdout",
     "output_type": "stream",
     "text": [
      "Price            Close                                                  \\\n",
      "Ticker            AAPL        AMZN       GOOGL         JNJ        MSFT   \n",
      "Date                                                                     \n",
      "2024-05-01  168.283646  179.000000  162.883133  145.235687  391.229401   \n",
      "2024-05-02  171.991272  184.720001  165.626678  144.025223  394.102112   \n",
      "2024-05-03  182.279160  186.210007  166.242981  143.400787  402.839264   \n",
      "2024-05-06  180.619186  188.699997  167.097855  142.737915  409.654633   \n",
      "2024-05-07  181.305023  188.759995  170.229065  142.872391  405.494110   \n",
      "...                ...         ...         ...         ...         ...   \n",
      "2025-04-24  208.097107  186.539993  159.087402  153.613083  386.590271   \n",
      "2025-04-25  209.005920  188.990005  161.764175  153.266068  391.131958   \n",
      "2025-04-28  209.864792  187.699997  160.415802  154.029526  390.443207   \n",
      "2025-04-29  210.933395  187.389999  159.966354  154.584763  393.317932   \n",
      "2025-04-30  212.221710  184.419998  158.607986  154.981354  394.535706   \n",
      "\n",
      "Price                                                 High              ...  \\\n",
      "Ticker            NVDA        TSLA         XOM        AAPL        AMZN  ...   \n",
      "Date                                                                    ...   \n",
      "2024-05-01   83.007950  179.990005  111.217079  171.673178  185.149994  ...   \n",
      "2024-05-02   85.782852  180.009995  111.418365  172.378930  185.100006  ...   \n",
      "2024-05-03   88.753670  181.190002  111.188324  185.877424  187.869995  ...   \n",
      "2024-05-06   92.103333  184.759995  111.907227  183.094229  188.750000  ...   \n",
      "2024-05-07   90.517967  177.809998  111.351280  183.790015  189.940002  ...   \n",
      "...                ...         ...         ...         ...         ...  ...   \n",
      "2025-04-24  106.422607  259.510010  107.638626  208.556511  186.740005  ...   \n",
      "2025-04-25  111.002296  284.950012  107.579178  209.475306  189.940002  ...   \n",
      "2025-04-28  108.722450  285.880005  107.638626  211.223011  190.220001  ...   \n",
      "2025-04-29  109.012428  292.029999  107.371094  211.962045  188.020004  ...   \n",
      "2025-04-30  108.912437  282.160004  104.666008  213.300298  185.050003  ...   \n",
      "\n",
      "Price             Open                 Volume                                \\\n",
      "Ticker            TSLA         XOM       AAPL      AMZN     GOOGL       JNJ   \n",
      "Date                                                                          \n",
      "2024-05-01  182.000000  113.373749   50383100  94645100  33493200  14470900   \n",
      "2024-05-02  182.860001  111.437540   94214900  54303500  24294500   8459800   \n",
      "2024-05-03  182.100006  111.188324  163224100  39172000  34662400   6532700   \n",
      "2024-05-06  183.800003  111.830543   78569700  34725300  21871300   5042800   \n",
      "2024-05-07  182.399994  112.415238   77305800  34048900  28039700   7333500   \n",
      "...                ...         ...        ...       ...       ...       ...   \n",
      "2025-04-24  250.500000  106.984653   47311000  43763200  45894000   8310400   \n",
      "2025-04-25  261.690002  107.153102   38222300  36414300  56034000   8643600   \n",
      "2025-04-28  288.980011  107.757534   38743100  33224700  29745800   5815200   \n",
      "2025-04-29  285.500000  106.756749   36827600  41667300  26809000   5246700   \n",
      "2025-04-30  279.899994  106.439673   52286500  55176500  34981100   9598200   \n",
      "\n",
      "Price                                                 \n",
      "Ticker          MSFT       NVDA       TSLA       XOM  \n",
      "Date                                                  \n",
      "2024-05-01  23562500  559863000   92829700  27777700  \n",
      "2024-05-02  17709400  377898000   89148000  25513600  \n",
      "2024-05-03  17446700  398341000   75491500  28023300  \n",
      "2024-05-06  16996600  376203000   84390300  31401300  \n",
      "2024-05-07  20018200  437342000   75045900  30122000  \n",
      "...              ...        ...        ...       ...  \n",
      "2025-04-24  22232300  220815000   94464200   9849600  \n",
      "2025-04-25  18973200  251064700  167560700  11245800  \n",
      "2025-04-28  16579400  207708500  151731800  13890900  \n",
      "2025-04-29  14974000  170444300  108906600   9483100  \n",
      "2025-04-30  36461100  235044600  128961100  20379300  \n",
      "\n",
      "[250 rows x 40 columns]\n",
      "                  AAPL        AMZN       GOOGL         JNJ        MSFT  \\\n",
      "Date                                                                     \n",
      "2024-05-01  168.283646  179.000000  162.883133  145.235687  391.229401   \n",
      "2024-05-02  171.991272  184.720001  165.626678  144.025223  394.102112   \n",
      "2024-05-03  182.279160  186.210007  166.242981  143.400787  402.839264   \n",
      "2024-05-06  180.619186  188.699997  167.097855  142.737915  409.654633   \n",
      "2024-05-07  181.305023  188.759995  170.229065  142.872391  405.494110   \n",
      "\n",
      "                 NVDA        TSLA         XOM  \n",
      "Date                                           \n",
      "2024-05-01  83.007950  179.990005  111.217079  \n",
      "2024-05-02  85.782852  180.009995  111.418365  \n",
      "2024-05-03  88.753670  181.190002  111.188324  \n",
      "2024-05-06  92.103333  184.759995  111.907227  \n",
      "2024-05-07  90.517967  177.809998  111.351280  \n"
     ]
    },
    {
     "name": "stderr",
     "output_type": "stream",
     "text": [
      "\n"
     ]
    }
   ],
   "source": [
    "\n",
    "# List tickers\n",
    "tickers = ['AAPL', 'MSFT', 'AMZN', 'TSLA', 'JNJ', 'XOM', 'GOOGL', 'NVDA']\n",
    "\n",
    "# Download data\n",
    "data = yf.download(tickers, start=\"2024-05-01\", end=\"2025-05-01\")\n",
    "print(data)\n",
    "# Extract only the 'Close' prices for each ticker\n",
    "close_prices = data[[col for col in data.columns if col[0] == 'Close']]\n",
    "close_prices.columns = [col[1] for col in close_prices.columns]  # Rename columns to ticker names\n",
    "print(close_prices.head())"
   ]
  },
  {
   "cell_type": "code",
   "execution_count": 28,
   "id": "ecb7b09a-7eeb-49ec-abe6-2976ea32a377",
   "metadata": {},
   "outputs": [],
   "source": [
    "# Returns & Risk\n",
    "returns = close_price.pct_change().dropna()\n",
    "mean_returns = returns.mean() * 252  # annualized\n",
    "cov_matrix = returns.cov() * 252     # annualized\n",
    "\n",
    "\n",
    "# Portfolio metrics\n",
    "# A portfolio is just a mixed of different stocks and weights mean how much money (in %) you put in each stock\n",
    "def portfolio_performance(weights, mean_returns, cov_matrix): \n",
    "    # gives the expected return of the whole portfolio\n",
    "    returns = np.dot(weights, mean_returns) \n",
    "     # gives the portfolio's standard deviation (volatility = risk)\n",
    "    std = np.sqrt(np.dot(weights.T, np.dot(cov_matrix, weights))) \n",
    "    return returns, std\n",
    "\n",
    "# Negative Sharpe Ratio (for minimization)\n",
    "# Sharpe = (Return − Risk-free rate) / Risk  ; measures how much return you're getting for the risk you're taking\n",
    "\n",
    "def neg_sharpe(weights, mean_returns, cov_matrix, risk_free_rate=0.02):\n",
    "    # ret and std are the expected return and standard deviation (risk) of the portfolio,\n",
    "    # calculated from the helper function portfolio_performance\n",
    "    ret, std = portfolio_performance(weights, mean_returns, cov_matrix) \n",
    "    # Return negative Sharpe Ratio because optimizers minimize by default\n",
    "    # By minimizing the negative, we are maximizing the real Sharpe Ratio\n",
    "    return -((ret - risk_free_rate) / std) \n",
    "\n",
    "# Max Return (High Risk)\n",
    "# defines a function that calculates negative expected return of a portfolio\n",
    "def max_return(weights, mean_returns, cov_matrix):\n",
    "    # return the negative because the optimizer (scipy.optimize.minimize) is a minimizer\n",
    "    return -np.dot(weights, mean_returns)\n",
    "\n",
    "# Define Constraints and Bounds - which came from scipy.optimizer \n",
    "constraints = ({'type': 'eq', 'fun': lambda x: np.sum(x) - 1})\n",
    "bounds = tuple((0, 1) for asset in range(len(tickers)))\n",
    "initial_weights = len(tickers) * [1/len(tickers)]"
   ]
  },
  {
   "cell_type": "code",
   "execution_count": 31,
   "id": "6a9865ba-8760-478d-80e4-57ccaccfb305",
   "metadata": {},
   "outputs": [
    {
     "name": "stdout",
     "output_type": "stream",
     "text": [
      "Low-Risk Portfolio:\n",
      "Annual Return: 26.33%\n",
      "Volatility: 20.33%\n",
      "Weights:\n",
      "AAPL     1.255178e-01\n",
      "MSFT     0.000000e+00\n",
      "AMZN     2.188191e-16\n",
      "TSLA     5.649917e-01\n",
      "JNJ      1.419763e-16\n",
      "XOM      1.532044e-01\n",
      "GOOGL    1.562862e-01\n",
      "NVDA     4.137587e-17\n",
      "dtype: float64\n",
      "\n",
      "High-Risk Portfolio:\n",
      "Annual Return: 70.96%\n",
      "Volatility: 72.21%\n",
      "Weights:\n",
      "AAPL     0.000000e+00\n",
      "MSFT     4.838116e-16\n",
      "AMZN     0.000000e+00\n",
      "TSLA     0.000000e+00\n",
      "JNJ      2.829949e-16\n",
      "XOM      0.000000e+00\n",
      "GOOGL    1.000000e+00\n",
      "NVDA     3.044442e-16\n",
      "dtype: float64\n"
     ]
    }
   ],
   "source": [
    "# Optimization\n",
    "# Core optimization steps\n",
    "# SLSQP = Sequential Least Squares Programming. It works well for smooth, continuous problems, like finance optimization\n",
    "low_risk = minimize(neg_sharpe, initial_weights, args=(mean_returns, cov_matrix),\n",
    "                    method='SLSQP', bounds=bounds, constraints=constraints)\n",
    "\n",
    "high_risk = minimize(max_return, initial_weights, args=(mean_returns, cov_matrix),\n",
    "                     method='SLSQP', bounds=bounds, constraints=constraints)\n",
    "\n",
    "\n",
    "# Extract portfolios\n",
    "# .x is the solution — gives the best weights found by the optimizer\n",
    "low_risk_weights = low_risk.x\n",
    "high_risk_weights = high_risk.x\n",
    "\n",
    "# Calculate portfolio stats \n",
    "low_ret, low_vol = portfolio_performance(low_risk_weights, mean_returns, cov_matrix)\n",
    "high_ret, high_vol = portfolio_performance(high_risk_weights, mean_returns, cov_matrix)\n",
    "\n",
    "print(\"Low-Risk Portfolio:\")\n",
    "print(f\"Annual Return: {low_ret:.2%}\")\n",
    "print(f\"Volatility: {low_vol:.2%}\")\n",
    "print(\"Weights:\")\n",
    "print(pd.Series(low_risk_weights, index=tickers))\n",
    "\n",
    "print(\"\\nHigh-Risk Portfolio:\")\n",
    "print(f\"Annual Return: {high_ret:.2%}\")\n",
    "print(f\"Volatility: {high_vol:.2%}\")\n",
    "print(\"Weights:\")\n",
    "print(pd.Series(high_risk_weights, index=tickers))\n"
   ]
  },
  {
   "cell_type": "markdown",
   "id": "e808c5f5-93f5-444e-9dbd-abb63af1cd28",
   "metadata": {},
   "source": [
    "### Efficient Frontier\n",
    "The Efficient Frontier shows: All the possible portfolios you could build by combining your selected stocks, with different \n",
    "return and risk trade-offs.\\\n",
    "It helps you answer:\\\n",
    "What mix of stocks gives me the best return for a given level of risk?\\\n",
    "How can I visualize all possible portfolios?"
   ]
  },
  {
   "cell_type": "code",
   "execution_count": 32,
   "id": "8505d2da-0171-4a55-9d52-e5d1117cda2b",
   "metadata": {},
   "outputs": [
    {
     "data": {
      "image/png": "[encoded data removed]",
      "text/plain": [
       "<Figure size 640x480 with 2 Axes>"
      ]
     },
     "metadata": {},
     "output_type": "display_data"
    }
   ],
   "source": [
    "# Efficient Frontier\n",
    "\n",
    "def simulate_portfolios(num_portfolios, mean_returns, cov_matrix):\n",
    "    # Create an empty result tables\n",
    "    results = np.zeros((3, num_portfolios))\n",
    "    weights_record = []\n",
    "    for i in range(num_portfolios):\n",
    "        # Random numbers for each stock\n",
    "        weights = np.random.random(len(tickers))\n",
    "        # Normalize so they sum to 1\n",
    "        weights /= np.sum(weights)\n",
    "        weights_record.append(weights)\n",
    "        # Calculate performance\n",
    "        portfolio_return, portfolio_std = portfolio_performance(weights, mean_returns, cov_matrix)\n",
    "        # Save the result\n",
    "        results[0,i] = portfolio_std # Risk \n",
    "        results[1,i] = portfolio_return # Retrun \n",
    "        results[2,i] = (portfolio_return - 0.02) / portfolio_std # Sharpe Ratio , risk-free rate = 0.02\n",
    "    return results, weights_record # Save the weights\n",
    "    \n",
    "# Run the simulations\n",
    "results, weights_record = simulate_portfolios(5000, mean_returns, cov_matrix)\n",
    "\n",
    "# Plot\n",
    "plt.scatter(results[0,:], results[1,:], c=results[2,:], cmap='viridis', marker='o')\n",
    "plt.xlabel('Volatility')\n",
    "plt.ylabel('Return')\n",
    "plt.colorbar(label='Sharpe Ratio')\n",
    "plt.scatter(low_vol, low_ret, marker='*', color='r', s=200, label='Low Risk')\n",
    "plt.scatter(high_vol, high_ret, marker='*', color='g', s=200, label='High Risk')\n",
    "plt.legend()\n",
    "plt.title('Efficient Frontier')\n",
    "plt.show()"
   ]
  },
  {
   "cell_type": "code",
   "execution_count": null,
   "id": "8586f3fe-bdc3-478d-98a5-8c037b347fef",
   "metadata": {},
   "outputs": [],
   "source": []
  },
  {
   "cell_type": "code",
   "execution_count": null,
   "id": "bb9fbe5c-2b0e-400d-b7e1-df6167df67d2",
   "metadata": {},
   "outputs": [],
   "source": []
  },
  {
   "cell_type": "code",
   "execution_count": null,
   "id": "108c70b0-8e89-4d2c-9776-73a94efecc2c",
   "metadata": {},
   "outputs": [],
   "source": []
  },
  {
   "cell_type": "code",
   "execution_count": null,
   "id": "b19c7fb7-20ee-47f0-9e15-dcb97e773de5",
   "metadata": {},
   "outputs": [],
   "source": []
  },
  {
   "cell_type": "code",
   "execution_count": null,
   "id": "d6d3bda7-56bd-4dc4-9d36-d2d352a85a56",
   "metadata": {},
   "outputs": [],
   "source": []
  },
  {
   "cell_type": "code",
   "execution_count": null,
   "id": "2321a730-42d1-4e72-9cb1-a36b3934572a",
   "metadata": {},
   "outputs": [],
   "source": []
  },
  {
   "cell_type": "code",
   "execution_count": null,
   "id": "d87fe6ee-1a8b-4b70-8347-85791fe5649e",
   "metadata": {},
   "outputs": [],
   "source": []
  },
  {
   "cell_type": "code",
   "execution_count": null,
   "id": "cbc1dafd-eb3c-452d-991d-90986ac0fc20",
   "metadata": {},
   "outputs": [],
   "source": []
  },
  {
   "cell_type": "code",
   "execution_count": null,
   "id": "c307cc43-2e7d-4424-a415-02a211334a04",
   "metadata": {},
   "outputs": [],
   "source": []
  },
  {
   "cell_type": "code",
   "execution_count": null,
   "id": "eb65f381-fe98-4a6e-8d6b-e2c498b7e2c7",
   "metadata": {},
   "outputs": [],
   "source": []
  },
  {
   "cell_type": "code",
   "execution_count": null,
   "id": "1277b7f7-0070-48cb-8040-b9060f127552",
   "metadata": {},
   "outputs": [],
   "source": []
  },
  {
   "cell_type": "code",
   "execution_count": null,
   "id": "647db80b-b0a4-4e5c-885e-34899f3f8e93",
   "metadata": {},
   "outputs": [],
   "source": []
  },
  {
   "cell_type": "code",
   "execution_count": null,
   "id": "ed19a8a6-ac49-4dbe-8ce3-da635de50bd9",
   "metadata": {},
   "outputs": [],
   "source": []
  },
  {
   "cell_type": "code",
   "execution_count": null,
   "id": "cd58d126-6634-4d56-9b31-30710c3efbb5",
   "metadata": {},
   "outputs": [],
   "source": []
  }
 ],
 "metadata": {
  "kernelspec": {
   "display_name": "Python 3 (ipykernel)",
   "language": "python",
   "name": "python3"
  },
  "language_info": {
   "codemirror_mode": {
    "name": "ipython",
    "version": 3
   },
   "file_extension": ".py",
   "mimetype": "text/x-python",
   "name": "python",
   "nbconvert_exporter": "python",
   "pygments_lexer": "ipython3",
   "version": "3.12.7"
  }
 },
 "nbformat": 4,
 "nbformat_minor": 5
}
